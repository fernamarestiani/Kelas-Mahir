{
  "nbformat": 4,
  "nbformat_minor": 0,
  "metadata": {
    "colab": {
      "name": "Notebook_tugas_Function.ipynb",
      "provenance": [],
      "collapsed_sections": []
    },
    "kernelspec": {
      "name": "python3",
      "display_name": "Python 3"
    },
    "language_info": {
      "name": "python"
    }
  },
  "cells": [
    {
      "cell_type": "markdown",
      "metadata": {
        "id": "szGntE9s1bpK"
      },
      "source": [
        "#**Pembukaan**"
      ]
    },
    {
      "cell_type": "markdown",
      "metadata": {
        "id": "nRGB3Owr18A2"
      },
      "source": [
        "Assalamu'alaikum warahmatullahi wabarakatuh. Puji syukur kehadirat Allah Subhana Wata'ala atas limpahan Rahmat dan HidayahNya kepada kita semua. Sholawat serta salam senantiasa tercurah limpahkan kepada baginda Muhammad Rasulullah Salallahualaihiwassalam."
      ]
    },
    {
      "cell_type": "markdown",
      "metadata": {
        "id": "pQio8ep82R1j"
      },
      "source": [
        "Halo para para pembaca. Selamat berjumpa di pertemuan pertama Program Training Algoritma Machine Learning Kelas Mahir."
      ]
    },
    {
      "cell_type": "markdown",
      "metadata": {
        "id": "vzaEOM1QsQoR"
      },
      "source": [
        "Pada pertemuan ini kita akan belajar:\n",
        "\n",
        "*   Fungsi Pada Python\n",
        "*   Keyword & Argument\n",
        "*   Membuat Fungsi Pada Python\n",
        "*   Positional Argument & Keyword\n",
        "*   Argument Default\n",
        "*   Contoh User Defined Function\n",
        "*   Latihan"
      ]
    },
    {
      "cell_type": "markdown",
      "metadata": {
        "id": "74v_BWdO3Hmi"
      },
      "source": [
        "#**Function**"
      ]
    },
    {
      "cell_type": "markdown",
      "metadata": {
        "id": "NX89FbfF3NWM"
      },
      "source": [
        "Function adalah sebuah blok statemen yang hanya akan dijalankan saat ia dipanggil."
      ]
    },
    {
      "cell_type": "code",
      "metadata": {
        "colab": {
          "base_uri": "https://localhost:8080/"
        },
        "id": "jboHzZw13hVK",
        "outputId": "b04c608e-7193-43f5-f4c4-946c5ab7b05c"
      },
      "source": [
        "genap = [2,4,6,8,10]\n",
        "len(genap)"
      ],
      "execution_count": null,
      "outputs": [
        {
          "output_type": "execute_result",
          "data": {
            "text/plain": [
              "5"
            ]
          },
          "metadata": {},
          "execution_count": 12
        }
      ]
    },
    {
      "cell_type": "code",
      "metadata": {
        "colab": {
          "base_uri": "https://localhost:8080/"
        },
        "id": "VRve7hkn3nkr",
        "outputId": "1ea9dcf8-9476-44af-e105-4686c6f7eb71"
      },
      "source": [
        "print('Assalamualaikum Dunia')"
      ],
      "execution_count": null,
      "outputs": [
        {
          "output_type": "stream",
          "name": "stdout",
          "text": [
            "Assalamualaikum Dunia\n"
          ]
        }
      ]
    },
    {
      "cell_type": "markdown",
      "metadata": {
        "id": "U6N-NVCf3tgb"
      },
      "source": [
        "#**Keyword & Argument!**"
      ]
    },
    {
      "cell_type": "markdown",
      "metadata": {
        "id": "hh-YKCzh4IDe"
      },
      "source": [
        "**Keyword/Parameter** : variable yang digunakan dalam deklarasi fungsi\n",
        "\n",
        "**Argumen**t: nilai yang diberikan saat pemanggilan fungsi\n",
        "\n"
      ]
    },
    {
      "cell_type": "code",
      "metadata": {
        "colab": {
          "base_uri": "https://localhost:8080/"
        },
        "id": "4ntacyQA4P9-",
        "outputId": "9dc6d2ee-a28f-44c4-ebe3-bc069103d75e"
      },
      "source": [
        "# sep = keyword/argument\n",
        "# '-' = argument\n",
        "print('kata1', 'kata2', sep='/')"
      ],
      "execution_count": null,
      "outputs": [
        {
          "output_type": "stream",
          "name": "stdout",
          "text": [
            "kata1/kata2\n"
          ]
        }
      ]
    },
    {
      "cell_type": "markdown",
      "metadata": {
        "id": "ZJYfd8m-qZdD"
      },
      "source": [
        "#**Membuat Fungsi**"
      ]
    },
    {
      "cell_type": "markdown",
      "metadata": {
        "id": "jCdKcH5HqnVP"
      },
      "source": [
        "Python mengizinkan untuk mendeklarasikan fungsi dalam kode yang dituliskan yang dikenal dengan **user defined function.**"
      ]
    },
    {
      "cell_type": "code",
      "metadata": {
        "colab": {
          "base_uri": "https://localhost:8080/",
          "height": 135
        },
        "id": "oI0szmloq4PR",
        "outputId": "caddc305-27f2-4ac0-d0d0-8462f08b1030"
      },
      "source": [
        "def nama_fungsi(argument):\n",
        "  pernyataan_1\n",
        "\n",
        "  pernyataan_n\n",
        "return nilai_keluaran"
      ],
      "execution_count": null,
      "outputs": [
        {
          "output_type": "error",
          "ename": "SyntaxError",
          "evalue": "ignored",
          "traceback": [
            "\u001b[0;36m  File \u001b[0;32m\"<ipython-input-11-0a6134129e07>\"\u001b[0;36m, line \u001b[0;32m5\u001b[0m\n\u001b[0;31m    return nilai_keluaran\u001b[0m\n\u001b[0m                         ^\u001b[0m\n\u001b[0;31mSyntaxError\u001b[0m\u001b[0;31m:\u001b[0m 'return' outside function\n"
          ]
        }
      ]
    },
    {
      "cell_type": "code",
      "metadata": {
        "id": "HxYQD4Y-rXL5"
      },
      "source": [
        "#Pendefinisian fungsi_kuadrat\n",
        "def fungsi_kuadrat(x):\n",
        "  hasil = x**2\n",
        "  return hasil"
      ],
      "execution_count": null,
      "outputs": []
    },
    {
      "cell_type": "code",
      "metadata": {
        "id": "U4pvY4G2riSq"
      },
      "source": [
        "#Alternatif pendefinisian fungsi_kuadrat\n",
        "def fungsi_kuadrat(x):\n",
        "  return x**2"
      ],
      "execution_count": null,
      "outputs": []
    },
    {
      "cell_type": "code",
      "metadata": {
        "colab": {
          "base_uri": "https://localhost:8080/"
        },
        "id": "fhXSq_rsrxOp",
        "outputId": "e87e08ea-6a0e-4df9-fabe-39acd8a81504"
      },
      "source": [
        "#Pemanggilan fungsi_kuadrat\n",
        "fungsi_kuadrat(6)"
      ],
      "execution_count": null,
      "outputs": [
        {
          "output_type": "execute_result",
          "data": {
            "text/plain": [
              "36"
            ]
          },
          "metadata": {},
          "execution_count": 5
        }
      ]
    },
    {
      "cell_type": "markdown",
      "metadata": {
        "id": "zsQdbcjOr6fX"
      },
      "source": [
        "#**Positional Argument & Keyword**"
      ]
    },
    {
      "cell_type": "markdown",
      "metadata": {
        "id": "wH07j1MNsAE9"
      },
      "source": [
        "Kita bisa menyatakan argumen sebagai positional argument atau keyword. Beberapa manfaat argumen kata\n",
        "kunci dapat berupa:\n",
        "\n",
        "\n",
        "*   Kita dapat menyebut argumen dengan nama mereka untuk memperjelas apa yang mereka wakili\n",
        "*   Kita dapat mengatur ulang argumen dengan cara yang membuatnya paling mudah dibaca\n",
        "\n"
      ]
    },
    {
      "cell_type": "code",
      "metadata": {
        "id": "AsyuYPuYsPbK"
      },
      "source": [
        "#Mendefinisikan fungsi dengan beberapa argumen\n",
        "def tampilkan_kata(a, b, c):\n",
        "  print(a, b, c)"
      ],
      "execution_count": null,
      "outputs": []
    },
    {
      "cell_type": "code",
      "metadata": {
        "colab": {
          "base_uri": "https://localhost:8080/"
        },
        "id": "uklTAdQSsdBr",
        "outputId": "4901be2b-cf68-4002-dbba-5ed950c6861a"
      },
      "source": [
        "#Positional Arguments\n",
        "tampilkan_kata('aku', 'kau', 'dia')"
      ],
      "execution_count": null,
      "outputs": [
        {
          "output_type": "stream",
          "name": "stdout",
          "text": [
            "aku kau dia\n"
          ]
        }
      ]
    },
    {
      "cell_type": "code",
      "metadata": {
        "colab": {
          "base_uri": "https://localhost:8080/"
        },
        "id": "COOnU1y_sqs3",
        "outputId": "c997330a-6a32-49c0-e956-c9fe9777f5cb"
      },
      "source": [
        "tampilkan_kata('kau', 'aku', 'dia')"
      ],
      "execution_count": null,
      "outputs": [
        {
          "output_type": "stream",
          "name": "stdout",
          "text": [
            "kau aku dia\n"
          ]
        }
      ]
    },
    {
      "cell_type": "code",
      "metadata": {
        "colab": {
          "base_uri": "https://localhost:8080/"
        },
        "id": "qL9fUZ3EtTUA",
        "outputId": "cd24b971-1180-442b-fb7c-62540347f34e"
      },
      "source": [
        "#Argumen berdasarkan keyword-nya\n",
        "tampilkan_kata(a='aku', b='kau', c='dia')\n",
        "tampilkan_kata(c='dia', b='kau', a='aku')"
      ],
      "execution_count": null,
      "outputs": [
        {
          "output_type": "stream",
          "name": "stdout",
          "text": [
            "aku kau dia\n",
            "aku kau dia\n"
          ]
        }
      ]
    },
    {
      "cell_type": "markdown",
      "metadata": {
        "id": "pVSaN15otl8s"
      },
      "source": [
        "Catatan: jika sudah diberi kunci maka urutan tidak menjadi penting"
      ]
    },
    {
      "cell_type": "code",
      "metadata": {
        "colab": {
          "base_uri": "https://localhost:8080/"
        },
        "id": "ybv2QsUvttBA",
        "outputId": "475cd352-d2af-4c37-82d3-1f8c1b650b9d"
      },
      "source": [
        "#Campuran antara argumen posisi dan argumen kata kunci\n",
        "tampilkan_kata('aku', b='kau', c='dia')"
      ],
      "execution_count": null,
      "outputs": [
        {
          "output_type": "stream",
          "name": "stdout",
          "text": [
            "aku kau dia\n"
          ]
        }
      ]
    },
    {
      "cell_type": "markdown",
      "metadata": {
        "id": "Lphgv1-Ft6fl"
      },
      "source": [
        "**Ini tidak diijinkan:**\n",
        "\n",
        "\n",
        "*   Positional argument setelah keyword argument\n",
        "\n",
        "          tampilkan_kata('aku', b='kau', 'dia')\n",
        "*   Terdapat dua nilai untuk satu keyword argument yang sama\n",
        "\n",
        "          tampilkan_kata(1, b=2, a=3)\n",
        "\n"
      ]
    },
    {
      "cell_type": "markdown",
      "metadata": {
        "id": "-H-LEUF94rcN"
      },
      "source": [
        "#**Argument Default**"
      ]
    },
    {
      "cell_type": "markdown",
      "metadata": {
        "id": "IiProM824uUl"
      },
      "source": [
        "Fungsi dapat memiliki argumen default dengan nilai yang telah ditentukan sebelumnya. Argumen ini dapat ditinggalkan dan nilai default kemudian diteruskan ke fungsi, atau argumen dapat dirubah dengan nilai yang berbeda. Perhatikan bahwa argumen default harus ditentukan sebagai **parameter terakhir** dalam suatu fungsi."
      ]
    },
    {
      "cell_type": "code",
      "metadata": {
        "colab": {
          "base_uri": "https://localhost:8080/"
        },
        "id": "wqlmCt3R47eL",
        "outputId": "fc08a8f8-eb23-4a95-d014-4e7aba51180f"
      },
      "source": [
        "#Argumen default\n",
        "def tampilkan_kata(a, b, c, d='sahabat'):\n",
        "  print(a, b, c, d)\n",
        "\n",
        "tampilkan_kata('aku', 'kau', 'dia')\n",
        "tampilkan_kata('aku', b='kau', c='dia', d='teman')"
      ],
      "execution_count": null,
      "outputs": [
        {
          "output_type": "stream",
          "name": "stdout",
          "text": [
            "aku kau dia sahabat\n",
            "aku kau dia teman\n"
          ]
        }
      ]
    },
    {
      "cell_type": "markdown",
      "metadata": {
        "id": "VOFvyUtN5dYV"
      },
      "source": [
        "**Catatan**: Argumen default harus diletakkan terakhir"
      ]
    },
    {
      "cell_type": "markdown",
      "metadata": {
        "id": "d7C1QzxQ5iRP"
      },
      "source": [
        "#**Contoh User Defined Function**"
      ]
    },
    {
      "cell_type": "markdown",
      "metadata": {
        "id": "OUZN6_8_5qOv"
      },
      "source": [
        "**Contoh 1:**\n",
        "\n",
        "Penjumlahan 2 bilangan"
      ]
    },
    {
      "cell_type": "code",
      "metadata": {
        "colab": {
          "base_uri": "https://localhost:8080/"
        },
        "id": "t6oHeJdO5xbk",
        "outputId": "029936fa-22fb-4c84-ad68-31547082dbdf"
      },
      "source": [
        "def penjumlahan (x,y):    #input\n",
        "  a=x+y                   #proses\n",
        "  return a                #output\n",
        "\n",
        "penjumlahan(1,2)"
      ],
      "execution_count": null,
      "outputs": [
        {
          "output_type": "execute_result",
          "data": {
            "text/plain": [
              "3"
            ]
          },
          "metadata": {},
          "execution_count": 16
        }
      ]
    },
    {
      "cell_type": "markdown",
      "metadata": {
        "id": "KzAC9x-Y54qe"
      },
      "source": [
        "**Contoh 2:**\n",
        "\n",
        "Penjumlahan yang memungkinkan untuk tiga bilangan"
      ]
    },
    {
      "cell_type": "code",
      "metadata": {
        "colab": {
          "base_uri": "https://localhost:8080/"
        },
        "id": "hWW1LIr556II",
        "outputId": "dcac7198-4e97-4605-9c1b-ae42e2ac3392"
      },
      "source": [
        "def penjumlahan (x,y,z=None):\n",
        "  if (z==None):\n",
        "    return x+y\n",
        "  else:\n",
        "    return x+y+z\n",
        "  \n",
        "print(penjumlahan(1,2))\n",
        "print(penjumlahan(1,2,3))"
      ],
      "execution_count": null,
      "outputs": [
        {
          "output_type": "stream",
          "name": "stdout",
          "text": [
            "3\n",
            "6\n"
          ]
        }
      ]
    },
    {
      "cell_type": "markdown",
      "metadata": {
        "id": "pgIki2In6BCC"
      },
      "source": [
        "**Contoh 3:**\n",
        "\n",
        "Menghitung luas dan keliling persegi"
      ]
    },
    {
      "cell_type": "code",
      "metadata": {
        "colab": {
          "base_uri": "https://localhost:8080/"
        },
        "id": "gMUKqXG06DeS",
        "outputId": "0507bf0b-5915-4564-fb06-e6aa0dc08758"
      },
      "source": [
        "def luas_dan_keliling_persegi(s):\n",
        "  luas=s**2\n",
        "  keliling=4*s\n",
        "  return luas, keliling\n",
        "\n",
        "luas, keliling = luas_dan_keliling_persegi(2)\n",
        "print('luas :', luas)\n",
        "print('keliling :', keliling)"
      ],
      "execution_count": null,
      "outputs": [
        {
          "output_type": "stream",
          "name": "stdout",
          "text": [
            "luas : 4\n",
            "keliling : 8\n"
          ]
        }
      ]
    },
    {
      "cell_type": "markdown",
      "metadata": {
        "id": "MjpRxu3Q6V6q"
      },
      "source": [
        "#**Latihan**"
      ]
    },
    {
      "cell_type": "markdown",
      "metadata": {
        "id": "tsp7qwN56V2l"
      },
      "source": [
        "\n",
        "1.   Buatlah sebuah fungsi untuk menghitung luas dan keliling lingkaran dengan input jari2!\n",
        "\n",
        "\n",
        "\n"
      ]
    },
    {
      "cell_type": "code",
      "metadata": {
        "colab": {
          "base_uri": "https://localhost:8080/"
        },
        "id": "zT4PGkDY6rwW",
        "outputId": "4154c40b-fdbe-4c83-8ea3-618d798046ae"
      },
      "source": [
        "def luas_dan_keliling_lingkaran(r):\n",
        "  pi = 3.14\n",
        "  luas = pi*r*r\n",
        "  keliling = 2*pi*r\n",
        "  return luas, keliling \n",
        "\n",
        "luas, keliling = luas_dan_keliling_lingkaran(100)\n",
        "print('luas:', luas)\n",
        "print('keliling:', keliling)"
      ],
      "execution_count": null,
      "outputs": [
        {
          "output_type": "stream",
          "name": "stdout",
          "text": [
            "luas: 31400.0\n",
            "keliling: 628.0\n"
          ]
        }
      ]
    },
    {
      "cell_type": "markdown",
      "metadata": {
        "id": "PnZ-aA5Q6wK3"
      },
      "source": [
        "\n",
        "2.   \n",
        "Buatlah sebuah fungsi untuk menggabungkan dua kata dalam bentuk string bebas menjadi satu kata tanpa spasi dengan huruf kecil\n",
        "\n"
      ]
    },
    {
      "cell_type": "code",
      "metadata": {
        "colab": {
          "base_uri": "https://localhost:8080/"
        },
        "id": "u7aNgbmYRoiX",
        "outputId": "36d70092-3cca-4ea3-a08f-a05d98bce9cf"
      },
      "source": [
        "def gabung_kata(x,y):\n",
        "  X = (x,y)\n",
        "  Y = \"\".join(X)\n",
        "  Z = Y.lower()\n",
        "  return Z\n",
        "\n",
        "Z = gabung_kata('TANGKUBAN', 'PeRaHu')\n",
        "print(Z)"
      ],
      "execution_count": null,
      "outputs": [
        {
          "output_type": "stream",
          "name": "stdout",
          "text": [
            "tangkubanperahu\n"
          ]
        }
      ]
    },
    {
      "cell_type": "markdown",
      "metadata": {
        "id": "LlMl1jF4R5ZY"
      },
      "source": [
        "\n",
        "3.   Buatlah sebuah fungsi awal_akhir(list_input) untuk menukar elemen pertama pada sebuah list dengan elemen terakhir pada list yang sama!\n",
        "\n"
      ]
    },
    {
      "cell_type": "code",
      "metadata": {
        "colab": {
          "base_uri": "https://localhost:8080/"
        },
        "id": "yrk5O6HQSDlC",
        "outputId": "36aaab09-c4af-4dee-9b09-b55c56d9a1c5"
      },
      "source": [
        "def awal_akhir(list_input):\n",
        "  list_input.sort(reverse = True)\n",
        "  return list_input\n",
        "\n",
        "list_input = awal_akhir([1,2,3,4])\n",
        "print(list_input)"
      ],
      "execution_count": null,
      "outputs": [
        {
          "output_type": "stream",
          "name": "stdout",
          "text": [
            "[4, 3, 2, 1]\n"
          ]
        }
      ]
    }
  ]
}